{
 "cells": [
  {
   "cell_type": "markdown",
   "id": "9cc9fa4f",
   "metadata": {},
   "source": [
    "Q1. Load your dataset into python using the pandas library and save data into a\n",
    "dataframe named dfi (where i is one of your datasets, for a total of 4)."
   ]
  },
  {
   "cell_type": "code",
   "execution_count": null,
   "id": "d0108794",
   "metadata": {},
   "outputs": [
    {
     "ename": "",
     "evalue": "",
     "output_type": "error",
     "traceback": [
      "\u001b[1;31mFailed to start the Kernel. \n",
      "\u001b[1;31mActivating extension 'ms-python.python' failed: TelemetrySender.sendEventData must be a function. \n",
      "\u001b[1;31mView Jupyter <a href='command:jupyter.viewOutput'>log</a> for further details."
     ]
    }
   ],
   "source": [
    "#Load Pandas\n",
    "import pandas as pd\n",
    "\n",
    "#Salary dataframe\n",
    "url = \"https://raw.githubusercontent.com/data602sps/datasetspractice/main/salarydata.csv\"\n",
    "df_salary = pd.read_csv(url)\n",
    "\n",
    "#NBA dataframe\n",
    "url = \"https://raw.githubusercontent.com/data602sps/datasetspractice/main/nba.csv\"\n",
    "df_nba = pd.read_csv(url)\n",
    "\n",
    "#Kaggle Unemployment Data\n",
    "#https://www.kaggle.com/datasets/justin2028/unemployment-in-america-per-us-state?select=Unemployment+in+America+Per+US+State.csv\n",
    "url = \"https://raw.githubusercontent.com/justin-2028/Unemployment-in-America-Per-US-State/main/Unemployment%20in%20America%20Per%20US%20State.csv\"\n",
    "df_unemp = pd.read_csv(url)\n",
    "\n",
    "#NYC Dog Bites\n",
    "#https://catalog.data.gov/dataset/dohmh-dog-bite-data\n",
    "url = \"https://raw.githubusercontent.com/johnnydrodriguez/data602_assignment6/main/DOHMH_Dog_Bite_Data.csv\"\n",
    "df_dogbites= pd.read_csv(url)\n"
   ]
  },
  {
   "cell_type": "markdown",
   "id": "7cf67de9",
   "metadata": {},
   "source": [
    "Q2. Preview your data by calling your dataframe’s name. How many columns and rows\n",
    "do you see?"
   ]
  },
  {
   "cell_type": "code",
   "execution_count": null,
   "id": "3db85174",
   "metadata": {},
   "outputs": [
    {
     "ename": "",
     "evalue": "",
     "output_type": "error",
     "traceback": [
      "\u001b[1;31mFailed to start the Kernel. \n",
      "\u001b[1;31mActivating extension 'ms-python.python' failed: TelemetrySender.sendEventData must be a function. \n",
      "\u001b[1;31mView Jupyter <a href='command:jupyter.viewOutput'>log</a> for further details."
     ]
    }
   ],
   "source": [
    "print(df_salary.head())\n",
    "print(df_nba.head())\n",
    "print(df_unemp.head())\n",
    "print(df_dogbites.head())\n"
   ]
  },
  {
   "cell_type": "markdown",
   "id": "74de906c",
   "metadata": {},
   "source": [
    "Q3. Examine the shape of your data using the .shape command and the data types of\n",
    "your columns using .dtypes.\n"
   ]
  },
  {
   "cell_type": "code",
   "execution_count": null,
   "id": "073af0d2",
   "metadata": {},
   "outputs": [
    {
     "ename": "",
     "evalue": "",
     "output_type": "error",
     "traceback": [
      "\u001b[1;31mFailed to start the Kernel. \n",
      "\u001b[1;31mActivating extension 'ms-python.python' failed: TelemetrySender.sendEventData must be a function. \n",
      "\u001b[1;31mView Jupyter <a href='command:jupyter.viewOutput'>log</a> for further details."
     ]
    }
   ],
   "source": [
    "#Salary Shape & Dtypes\n",
    "print(df_salary.shape)\n",
    "print(df_salary.dtypes)\n",
    "\n",
    "#NBA shape & dtypes\n",
    "print(df_nba.shape)\n",
    "print(df_nba.dtypes)\n",
    "\n",
    "#Unemployment shape & dtypes\n",
    "print(df_unemp.shape)\n",
    "print(df_unemp.dtypes)\n",
    "\n",
    "#Dog Bites shape and dtypes\n",
    "print(df_dogbites.shape)\n",
    "print(df_dogbites.dtypes)\n"
   ]
  },
  {
   "cell_type": "markdown",
   "id": "fe29a112",
   "metadata": {},
   "source": [
    "Q4. Use .describe() on your data. What do you notice about your data? What does this\n",
    "command return?\n"
   ]
  },
  {
   "cell_type": "code",
   "execution_count": null,
   "id": "ee831fcf",
   "metadata": {},
   "outputs": [
    {
     "ename": "",
     "evalue": "",
     "output_type": "error",
     "traceback": [
      "\u001b[1;31mFailed to start the Kernel. \n",
      "\u001b[1;31mActivating extension 'ms-python.python' failed: TelemetrySender.sendEventData must be a function. \n",
      "\u001b[1;31mView Jupyter <a href='command:jupyter.viewOutput'>log</a> for further details."
     ]
    }
   ],
   "source": [
    "# The data is summarized and returns statistical calculations  for ll  numeric values.\n",
    "\n",
    "df_nba.describe()\n"
   ]
  },
  {
   "cell_type": "markdown",
   "id": "3b0c8e59",
   "metadata": {},
   "source": [
    "Q5. Use the .head() and .tail() command - what does this do?"
   ]
  },
  {
   "cell_type": "code",
   "execution_count": null,
   "id": "f41a6b7a",
   "metadata": {},
   "outputs": [
    {
     "ename": "",
     "evalue": "",
     "output_type": "error",
     "traceback": [
      "\u001b[1;31mFailed to start the Kernel. \n",
      "\u001b[1;31mActivating extension 'ms-python.python' failed: TelemetrySender.sendEventData must be a function. \n",
      "\u001b[1;31mView Jupyter <a href='command:jupyter.viewOutput'>log</a> for further details."
     ]
    }
   ],
   "source": [
    "#Head prints the first 5 rows of the df\n",
    "print(df_nba.head())\n",
    "\n",
    "#Tail prints the last 5 rows of the df\n",
    "print(df_nba.tail())"
   ]
  }
 ],
 "metadata": {
  "kernelspec": {
   "display_name": "Python 3",
   "language": "python",
   "name": "python3"
  },
  "language_info": {
   "codemirror_mode": {
    "name": "ipython",
    "version": 3
   },
   "file_extension": ".py",
   "mimetype": "text/x-python",
   "name": "python",
   "nbconvert_exporter": "python",
   "pygments_lexer": "ipython3",
   "version": "3.11.1 (v3.11.1:a7a450f84a, Dec  6 2022, 15:24:06) [Clang 13.0.0 (clang-1300.0.29.30)]"
  },
  "vscode": {
   "interpreter": {
    "hash": "aee8b7b246df8f9039afb4144a1f6fd8d2ca17a180786b69acc140d282b71a49"
   }
  }
 },
 "nbformat": 4,
 "nbformat_minor": 5
}
